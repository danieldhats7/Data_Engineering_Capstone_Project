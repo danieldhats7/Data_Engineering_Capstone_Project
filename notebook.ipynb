{
 "cells": [
  {
   "cell_type": "code",
   "execution_count": 5,
   "metadata": {},
   "outputs": [],
   "source": [
    "import requests\n",
    "from pathlib import Path\n",
    "from constants import *\n",
    "from cfg import *"
   ]
  },
  {
   "cell_type": "code",
   "execution_count": 2,
   "metadata": {},
   "outputs": [],
   "source": [
    "BASE_FILE_DIR.mkdir(parents=True, exist_ok=True)"
   ]
  },
  {
   "cell_type": "code",
   "execution_count": 6,
   "metadata": {},
   "outputs": [],
   "source": [
    "m_path = BASE_FILE_DIR / \"sales_data.csv\""
   ]
  },
  {
   "cell_type": "code",
   "execution_count": 17,
   "metadata": {},
   "outputs": [],
   "source": [
    "r = requests.get(OLTP_URL)"
   ]
  },
  {
   "cell_type": "code",
   "execution_count": 20,
   "metadata": {},
   "outputs": [],
   "source": [
    "r.encoding = \"utf-8\""
   ]
  },
  {
   "cell_type": "code",
   "execution_count": 21,
   "metadata": {},
   "outputs": [],
   "source": [
    "with open(m_path, \"w\") as f_out:\n",
    "    f_out.write(r.text)"
   ]
  },
  {
   "cell_type": "code",
   "execution_count": 24,
   "metadata": {},
   "outputs": [
    {
     "data": {
      "text/html": [
       "<div>\n",
       "<style scoped>\n",
       "    .dataframe tbody tr th:only-of-type {\n",
       "        vertical-align: middle;\n",
       "    }\n",
       "\n",
       "    .dataframe tbody tr th {\n",
       "        vertical-align: top;\n",
       "    }\n",
       "\n",
       "    .dataframe thead th {\n",
       "        text-align: right;\n",
       "    }\n",
       "</style>\n",
       "<table border=\"1\" class=\"dataframe\">\n",
       "  <thead>\n",
       "    <tr style=\"text-align: right;\">\n",
       "      <th></th>\n",
       "      <th>6739</th>\n",
       "      <th>76305</th>\n",
       "      <th>230</th>\n",
       "      <th>1</th>\n",
       "      <th>2020-09-05 16:20:03</th>\n",
       "    </tr>\n",
       "  </thead>\n",
       "  <tbody>\n",
       "    <tr>\n",
       "      <th>0</th>\n",
       "      <td>7460</td>\n",
       "      <td>81008</td>\n",
       "      <td>1455</td>\n",
       "      <td>4</td>\n",
       "      <td>2020-09-05 16:20:04</td>\n",
       "    </tr>\n",
       "    <tr>\n",
       "      <th>1</th>\n",
       "      <td>6701</td>\n",
       "      <td>7556</td>\n",
       "      <td>1159</td>\n",
       "      <td>2</td>\n",
       "      <td>2020-09-05 16:20:05</td>\n",
       "    </tr>\n",
       "    <tr>\n",
       "      <th>2</th>\n",
       "      <td>8021</td>\n",
       "      <td>36492</td>\n",
       "      <td>3727</td>\n",
       "      <td>2</td>\n",
       "      <td>2020-09-05 16:20:06</td>\n",
       "    </tr>\n",
       "    <tr>\n",
       "      <th>3</th>\n",
       "      <td>6442</td>\n",
       "      <td>11282</td>\n",
       "      <td>4387</td>\n",
       "      <td>5</td>\n",
       "      <td>2020-09-05 16:20:07</td>\n",
       "    </tr>\n",
       "    <tr>\n",
       "      <th>4</th>\n",
       "      <td>5643</td>\n",
       "      <td>36216</td>\n",
       "      <td>1619</td>\n",
       "      <td>1</td>\n",
       "      <td>2020-09-05 16:20:08</td>\n",
       "    </tr>\n",
       "  </tbody>\n",
       "</table>\n",
       "</div>"
      ],
      "text/plain": [
       "   6739  76305   230  1  2020-09-05 16:20:03\n",
       "0  7460  81008  1455  4  2020-09-05 16:20:04\n",
       "1  6701   7556  1159  2  2020-09-05 16:20:05\n",
       "2  8021  36492  3727  2  2020-09-05 16:20:06\n",
       "3  6442  11282  4387  5  2020-09-05 16:20:07\n",
       "4  5643  36216  1619  1  2020-09-05 16:20:08"
      ]
     },
     "execution_count": 24,
     "metadata": {},
     "output_type": "execute_result"
    }
   ],
   "source": [
    "import pandas as pd\n",
    "df = pd.read_csv(m_path)\n",
    "df.head()"
   ]
  },
  {
   "cell_type": "code",
   "execution_count": 25,
   "metadata": {},
   "outputs": [
    {
     "name": "stdout",
     "output_type": "stream",
     "text": [
      "hpop;a mama\n"
     ]
    }
   ],
   "source": [
    "ccc = (\n",
    "    \"hpop;a mama\"\n",
    ")\n",
    "print(ccc)"
   ]
  },
  {
   "cell_type": "code",
   "execution_count": null,
   "metadata": {},
   "outputs": [],
   "source": []
  }
 ],
 "metadata": {
  "interpreter": {
   "hash": "53d6fe31f14d21d14d74e78e58397ba88b31d0b6b602d2d4fb43804a6560c673"
  },
  "kernelspec": {
   "display_name": "Python 3.9.7 ('code-zgQ2diHs')",
   "language": "python",
   "name": "python3"
  },
  "language_info": {
   "codemirror_mode": {
    "name": "ipython",
    "version": 3
   },
   "file_extension": ".py",
   "mimetype": "text/x-python",
   "name": "python",
   "nbconvert_exporter": "python",
   "pygments_lexer": "ipython3",
   "version": "3.9.7"
  },
  "orig_nbformat": 4
 },
 "nbformat": 4,
 "nbformat_minor": 2
}
